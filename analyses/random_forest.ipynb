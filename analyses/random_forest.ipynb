{
 "cells": [
  {
   "cell_type": "code",
   "execution_count": 1,
   "metadata": {},
   "outputs": [],
   "source": [
    "import sys\n",
    "import seaborn as sns\n",
    "from matplotlib import pyplot as plt\n",
    "%matplotlib inline\n",
    "import matplotlib.ticker as mticker\n",
    "import pandas as pd\n",
    "import numpy as np\n",
    "from sklearn.ensemble import RandomForestClassifier\n",
    "from sklearn.datasets import make_classification\n",
    "import joblib"
   ]
  },
  {
   "cell_type": "code",
   "execution_count": 2,
   "metadata": {},
   "outputs": [],
   "source": [
    "samples = joblib.load('samples.sav')\n",
    "list_CpGs = joblib.load('list_CpGs.sav')\n",
    "# list_patterns = joblib.load('list_patterns.sav')\n",
    "# list_each_cpg = joblib.load('list_each_cpg.sav')\n",
    "# CpG_positions = joblib.load('CpG_positions.sav')\n",
    "CpG_num = joblib.load('CpG_num.sav')\n",
    "colors = joblib.load('colors.sav')\n",
    "CpG_targets = joblib.load('CpG_targets.sav')"
   ]
  },
  {
   "cell_type": "code",
   "execution_count": 3,
   "metadata": {},
   "outputs": [
    {
     "data": {
      "text/plain": [
       "{'CD', 'CL', 'Ctrl', 'DD', 'FD', 'MN', 'MP', 'MU', 'TR'}"
      ]
     },
     "execution_count": 3,
     "metadata": {},
     "output_type": "execute_result"
    }
   ],
   "source": [
    "set(samples[\"Group ID\"])"
   ]
  },
  {
   "cell_type": "code",
   "execution_count": 3,
   "metadata": {},
   "outputs": [],
   "source": [
    "sel_group = ['Ctrl', 'FD', 'MN', 'MP']\n",
    "samples2 = samples.loc[samples[\"Group ID\"].isin(sel_group),]\n",
    "list_CpGs2 = {}\n",
    "list_patterns2 = {}\n",
    "numCpG = {}\n",
    "for target in CpG_targets:\n",
    "    list_CpGs2[target] = list_CpGs[target].loc[list_CpGs[target][\"group\"].isin(sel_group),]\n",
    "#     list_patterns2[target] = list_patterns[target].loc[list_patterns[target][\"group\"].isin(sel_group),]\n",
    "    if target not in numCpG.keys():\n",
    "        numCpG[target] = list_CpGs2[target].iloc[:,3:].shape[1]"
   ]
  },
  {
   "cell_type": "code",
   "execution_count": 4,
   "metadata": {},
   "outputs": [
    {
     "data": {
      "text/plain": [
       "{'cg15289427': 14, 'cg22797031': 10, 'cg27630153': 15, 'cg19586199': 9}"
      ]
     },
     "execution_count": 4,
     "metadata": {},
     "output_type": "execute_result"
    }
   ],
   "source": [
    "samples2[\"ID\"]\n",
    "numCpG"
   ]
  },
  {
   "cell_type": "code",
   "execution_count": 5,
   "metadata": {},
   "outputs": [],
   "source": [
    "training_ratio = 0.7\n",
    "ss_ctrl = samples2.loc[samples2[\"Group ID\"].isin(['Ctrl']),]\n",
    "training_set_ctrl = ss_ctrl.sample(frac=training_ratio, random_state=11).ID.values.tolist()\n",
    "validation_set_ctrl = list(set(ss_ctrl.ID.values.tolist()) - set(training_set_ctrl))\n",
    "\n",
    "# samples2.loc[samples2[\"ID\"].isin(training_set_ctrl),\"Group ID\"] = \"Ctrl Training\"\n",
    "# # print(samples)\n",
    "# for target in CpG_targets:\n",
    "#     print(target)\n",
    "#     for idd in training_set_ctrl:\n",
    "#         list_CpGs2[target].loc[list_CpGs2[target][\"id\"]==idd,\"group\"] = \"Ctrl Training\"\n",
    "\n",
    "ss_FD = samples2.loc[samples2[\"Group ID\"].isin(['FD']),]\n",
    "training_set_FD = ss_FD.sample(frac=training_ratio, random_state=11).ID.values.tolist()\n",
    "validation_set_FD = list(set(ss_FD.ID.values.tolist()) - set(training_set_FD))\n",
    "\n",
    "# samples2.loc[samples2[\"ID\"].isin(validation_set_FD),\"Group ID\"] = \"FD Training\"\n",
    "# # print(samples)\n",
    "# for target in CpG_targets:\n",
    "#     print(target)\n",
    "#     for idd in validation_set_FD:\n",
    "#         list_CpGs2[target].loc[list_CpGs2[target][\"id\"]==idd,\"group\"] = \"FD Training\""
   ]
  },
  {
   "cell_type": "code",
   "execution_count": 6,
   "metadata": {},
   "outputs": [
    {
     "name": "stdout",
     "output_type": "stream",
     "text": [
      "cg15289427\n",
      "..................................\n",
      "cg22797031\n",
      "..................................\n",
      "cg27630153\n",
      "..................................\n",
      "cg19586199\n",
      "..................................\n",
      "2588300\n"
     ]
    }
   ],
   "source": [
    "sum_reads = []\n",
    "for target in CpG_targets:\n",
    "    print(target)\n",
    "    for s in training_set_FD:\n",
    "        print(\".\", end=\"\")\n",
    "        ttr = list_CpGs2[target].loc[list_CpGs2[target][\"id\"]==s,].shape[0]\n",
    "        sum_reads.append(ttr)\n",
    "    print()\n",
    "print(sum(sum_reads))"
   ]
  },
  {
   "cell_type": "code",
   "execution_count": 7,
   "metadata": {},
   "outputs": [
    {
     "data": {
      "text/plain": [
       "34"
      ]
     },
     "execution_count": 7,
     "metadata": {},
     "output_type": "execute_result"
    }
   ],
   "source": [
    "len(training_set_FD)"
   ]
  },
  {
   "cell_type": "code",
   "execution_count": 8,
   "metadata": {},
   "outputs": [],
   "source": [
    "training_set = training_set_ctrl + training_set_FD\n",
    "validation_set = validation_set_ctrl + validation_set_FD"
   ]
  },
  {
   "cell_type": "code",
   "execution_count": 9,
   "metadata": {},
   "outputs": [
    {
     "data": {
      "text/plain": [
       "['RF_before_training.sav']"
      ]
     },
     "execution_count": 9,
     "metadata": {},
     "output_type": "execute_result"
    }
   ],
   "source": [
    "joblib.dump([samples2, CpG_targets, numCpG,\n",
    "            training_set, validation_set,\n",
    "            list_CpGs2], 'RF_before_training.sav') "
   ]
  },
  {
   "cell_type": "code",
   "execution_count": null,
   "metadata": {},
   "outputs": [],
   "source": [
    "[samples2, CpG_targets, numCpG,\n",
    "            training_set, validation_set,\n",
    "            list_CpGs2] = joblib.load('RF_before_training.sav')"
   ]
  },
  {
   "cell_type": "code",
   "execution_count": 10,
   "metadata": {},
   "outputs": [],
   "source": [
    "max_depth = 5"
   ]
  },
  {
   "cell_type": "code",
   "execution_count": 11,
   "metadata": {},
   "outputs": [
    {
     "name": "stdout",
     "output_type": "stream",
     "text": [
      "cg15289427\n",
      "training data...\n",
      "cg22797031\n",
      "training data...\n",
      "cg27630153\n",
      "training data...\n",
      "cg19586199\n",
      "training data...\n"
     ]
    },
    {
     "data": {
      "text/plain": [
       "['Random_forest_models.sav']"
      ]
     },
     "execution_count": 11,
     "metadata": {},
     "output_type": "execute_result"
    }
   ],
   "source": [
    "\n",
    "RFs = {}\n",
    "for target in CpG_targets:\n",
    "    print(target)\n",
    "    X = np.empty((0, numCpG[target]))\n",
    "    Y = []\n",
    "    for idd in samples2[\"ID\"]:\n",
    "        if idd in training_set:\n",
    "            g = samples2[\"Group ID\"].loc[samples2[\"ID\"]==idd].values\n",
    "            t = list_CpGs2[target].loc[list_CpGs2[target][\"id\"]==idd,]\n",
    "            t = t.iloc[:,3:].values\n",
    "#             print(t.shape)\n",
    "#             print(X.shape)\n",
    "            X = np.concatenate((X, t))\n",
    "            Y += [g] * t.shape[0]\n",
    "    print(\"training data...\")\n",
    "#     print(X.shape)\n",
    "#     print(len(Y))\n",
    "    RFs[target] = RandomForestClassifier(max_depth=max_depth, random_state=0)\n",
    "    RFs[target].fit(X, np.ravel(Y))\n",
    "\n",
    "joblib.dump(RFs, \"Random_forest_models.sav\")"
   ]
  },
  {
   "cell_type": "code",
   "execution_count": 12,
   "metadata": {},
   "outputs": [
    {
     "name": "stdout",
     "output_type": "stream",
     "text": [
      "............................................................................................................................................................"
     ]
    }
   ],
   "source": [
    "\n",
    "res_RFs = []\n",
    "for idd in samples2[\"ID\"]:\n",
    "    print(\".\", end=\"\")\n",
    "    g = samples2[\"Group ID\"].loc[samples2[\"ID\"]==idd].values[0]\n",
    "    pp = []\n",
    "    for target in CpG_targets:\n",
    "#         print(target)\n",
    "        t = list_CpGs2[target].loc[list_CpGs2[target][\"id\"]==idd,]\n",
    "#         if t.shape[0] < 100:\n",
    "#             continue\n",
    "#         else:\n",
    "        t = t.iloc[:,3:].values\n",
    "        r = RFs[target].predict(t).tolist()\n",
    "        pp.append(r.count(\"FD\")/len(r))\n",
    "#         print(pp)\n",
    "#     print(pp)\n",
    "    p = sum(pp)/len(pp)\n",
    "    res_RFs.append([g, idd, p])\n",
    "# print(res_RFs)\n",
    "res_RFs = pd.DataFrame(res_RFs, columns=[\"group\", \"id\", \"anomaly\"])\n",
    "    "
   ]
  },
  {
   "cell_type": "code",
   "execution_count": 13,
   "metadata": {},
   "outputs": [
    {
     "data": {
      "text/html": [
       "<div>\n",
       "<style scoped>\n",
       "    .dataframe tbody tr th:only-of-type {\n",
       "        vertical-align: middle;\n",
       "    }\n",
       "\n",
       "    .dataframe tbody tr th {\n",
       "        vertical-align: top;\n",
       "    }\n",
       "\n",
       "    .dataframe thead th {\n",
       "        text-align: right;\n",
       "    }\n",
       "</style>\n",
       "<table border=\"1\" class=\"dataframe\">\n",
       "  <thead>\n",
       "    <tr style=\"text-align: right;\">\n",
       "      <th></th>\n",
       "      <th>group</th>\n",
       "      <th>id</th>\n",
       "      <th>anomaly</th>\n",
       "    </tr>\n",
       "  </thead>\n",
       "  <tbody>\n",
       "    <tr>\n",
       "      <th>0</th>\n",
       "      <td>FD</td>\n",
       "      <td>FD_11a</td>\n",
       "      <td>0.494973</td>\n",
       "    </tr>\n",
       "    <tr>\n",
       "      <th>1</th>\n",
       "      <td>FD</td>\n",
       "      <td>FD_14a</td>\n",
       "      <td>0.175386</td>\n",
       "    </tr>\n",
       "    <tr>\n",
       "      <th>2</th>\n",
       "      <td>FD</td>\n",
       "      <td>FD_15a</td>\n",
       "      <td>0.584181</td>\n",
       "    </tr>\n",
       "    <tr>\n",
       "      <th>3</th>\n",
       "      <td>FD</td>\n",
       "      <td>FD_17a</td>\n",
       "      <td>0.444912</td>\n",
       "    </tr>\n",
       "    <tr>\n",
       "      <th>4</th>\n",
       "      <td>FD</td>\n",
       "      <td>FD_19a</td>\n",
       "      <td>0.484498</td>\n",
       "    </tr>\n",
       "    <tr>\n",
       "      <th>...</th>\n",
       "      <td>...</td>\n",
       "      <td>...</td>\n",
       "      <td>...</td>\n",
       "    </tr>\n",
       "    <tr>\n",
       "      <th>151</th>\n",
       "      <td>Ctrl</td>\n",
       "      <td>Ctrl_V</td>\n",
       "      <td>0.025400</td>\n",
       "    </tr>\n",
       "    <tr>\n",
       "      <th>152</th>\n",
       "      <td>Ctrl</td>\n",
       "      <td>Ctrl_W</td>\n",
       "      <td>0.030726</td>\n",
       "    </tr>\n",
       "    <tr>\n",
       "      <th>153</th>\n",
       "      <td>Ctrl</td>\n",
       "      <td>Ctrl_X</td>\n",
       "      <td>0.026177</td>\n",
       "    </tr>\n",
       "    <tr>\n",
       "      <th>154</th>\n",
       "      <td>Ctrl</td>\n",
       "      <td>Ctrl_Y</td>\n",
       "      <td>0.034543</td>\n",
       "    </tr>\n",
       "    <tr>\n",
       "      <th>155</th>\n",
       "      <td>Ctrl</td>\n",
       "      <td>Ctrl_Z</td>\n",
       "      <td>0.033347</td>\n",
       "    </tr>\n",
       "  </tbody>\n",
       "</table>\n",
       "<p>156 rows × 3 columns</p>\n",
       "</div>"
      ],
      "text/plain": [
       "    group      id   anomaly\n",
       "0      FD  FD_11a  0.494973\n",
       "1      FD  FD_14a  0.175386\n",
       "2      FD  FD_15a  0.584181\n",
       "3      FD  FD_17a  0.444912\n",
       "4      FD  FD_19a  0.484498\n",
       "..    ...     ...       ...\n",
       "151  Ctrl  Ctrl_V  0.025400\n",
       "152  Ctrl  Ctrl_W  0.030726\n",
       "153  Ctrl  Ctrl_X  0.026177\n",
       "154  Ctrl  Ctrl_Y  0.034543\n",
       "155  Ctrl  Ctrl_Z  0.033347\n",
       "\n",
       "[156 rows x 3 columns]"
      ]
     },
     "execution_count": 13,
     "metadata": {},
     "output_type": "execute_result"
    }
   ],
   "source": [
    "res_RFs "
   ]
  },
  {
   "cell_type": "code",
   "execution_count": 14,
   "metadata": {},
   "outputs": [
    {
     "data": {
      "text/html": [
       "<div>\n",
       "<style scoped>\n",
       "    .dataframe tbody tr th:only-of-type {\n",
       "        vertical-align: middle;\n",
       "    }\n",
       "\n",
       "    .dataframe tbody tr th {\n",
       "        vertical-align: top;\n",
       "    }\n",
       "\n",
       "    .dataframe thead th {\n",
       "        text-align: right;\n",
       "    }\n",
       "</style>\n",
       "<table border=\"1\" class=\"dataframe\">\n",
       "  <thead>\n",
       "    <tr style=\"text-align: right;\">\n",
       "      <th></th>\n",
       "      <th>group</th>\n",
       "      <th>id</th>\n",
       "      <th>anomaly</th>\n",
       "    </tr>\n",
       "  </thead>\n",
       "  <tbody>\n",
       "    <tr>\n",
       "      <th>0</th>\n",
       "      <td>FD</td>\n",
       "      <td>FD_11a</td>\n",
       "      <td>0.494973</td>\n",
       "    </tr>\n",
       "    <tr>\n",
       "      <th>1</th>\n",
       "      <td>FD</td>\n",
       "      <td>FD_14a</td>\n",
       "      <td>0.175386</td>\n",
       "    </tr>\n",
       "    <tr>\n",
       "      <th>2</th>\n",
       "      <td>FD</td>\n",
       "      <td>FD_15a</td>\n",
       "      <td>0.584181</td>\n",
       "    </tr>\n",
       "    <tr>\n",
       "      <th>3</th>\n",
       "      <td>FD</td>\n",
       "      <td>FD_17a</td>\n",
       "      <td>0.444912</td>\n",
       "    </tr>\n",
       "    <tr>\n",
       "      <th>4</th>\n",
       "      <td>FD</td>\n",
       "      <td>FD_19a</td>\n",
       "      <td>0.484498</td>\n",
       "    </tr>\n",
       "    <tr>\n",
       "      <th>...</th>\n",
       "      <td>...</td>\n",
       "      <td>...</td>\n",
       "      <td>...</td>\n",
       "    </tr>\n",
       "    <tr>\n",
       "      <th>151</th>\n",
       "      <td>Ctrl</td>\n",
       "      <td>Ctrl_V</td>\n",
       "      <td>0.025400</td>\n",
       "    </tr>\n",
       "    <tr>\n",
       "      <th>152</th>\n",
       "      <td>Ctrl</td>\n",
       "      <td>Ctrl_W</td>\n",
       "      <td>0.030726</td>\n",
       "    </tr>\n",
       "    <tr>\n",
       "      <th>153</th>\n",
       "      <td>Ctrl</td>\n",
       "      <td>Ctrl_X</td>\n",
       "      <td>0.026177</td>\n",
       "    </tr>\n",
       "    <tr>\n",
       "      <th>154</th>\n",
       "      <td>Ctrl</td>\n",
       "      <td>Ctrl_Y</td>\n",
       "      <td>0.034543</td>\n",
       "    </tr>\n",
       "    <tr>\n",
       "      <th>155</th>\n",
       "      <td>Ctrl</td>\n",
       "      <td>Ctrl_Z</td>\n",
       "      <td>0.033347</td>\n",
       "    </tr>\n",
       "  </tbody>\n",
       "</table>\n",
       "<p>156 rows × 3 columns</p>\n",
       "</div>"
      ],
      "text/plain": [
       "    group      id   anomaly\n",
       "0      FD  FD_11a  0.494973\n",
       "1      FD  FD_14a  0.175386\n",
       "2      FD  FD_15a  0.584181\n",
       "3      FD  FD_17a  0.444912\n",
       "4      FD  FD_19a  0.484498\n",
       "..    ...     ...       ...\n",
       "151  Ctrl  Ctrl_V  0.025400\n",
       "152  Ctrl  Ctrl_W  0.030726\n",
       "153  Ctrl  Ctrl_X  0.026177\n",
       "154  Ctrl  Ctrl_Y  0.034543\n",
       "155  Ctrl  Ctrl_Z  0.033347\n",
       "\n",
       "[156 rows x 3 columns]"
      ]
     },
     "execution_count": 14,
     "metadata": {},
     "output_type": "execute_result"
    }
   ],
   "source": [
    "# res_RFs = joblib.load('/home/joseph/Dropbox/Work/Manuscripts/2020_Kuo_Leukemia/figures/benchmark/res_random_forest'+str(max_depth)+'.sav')\n",
    "res_RFs.to_csv(\"/home/joseph/Dropbox/Work/Manuscripts/2020_Kuo_Leukemia/figures/benchmark/res_random_forest\"+str(max_depth)+\".csv\", index=False)\n",
    "res_RFs"
   ]
  },
  {
   "cell_type": "code",
   "execution_count": 15,
   "metadata": {},
   "outputs": [
    {
     "data": {
      "image/png": "[encoded data removed]",
      "text/plain": [
       "<Figure size 1200x600 with 1 Axes>"
      ]
     },
     "metadata": {},
     "output_type": "display_data"
    }
   ],
   "source": [
    "sns.set()\n",
    "sns.set_style(\"whitegrid\")\n",
    "sns.set_context(\"paper\")\n",
    "\n",
    "####### Figures #########\n",
    "f, axs = plt.subplots(1, 1, figsize=(3, 1.5), dpi=400)\n",
    "# sns.boxplot(x=\"group\", y=\"anomaly_ratio\", data=anomaly[\"Mean\"],\n",
    "#             ax=axs, hue=\"group\", palette=colors, dodge=False, showfliers = False)\n",
    "sns.swarmplot(y=\"group\", x=\"anomaly\", data=res_RFs,\n",
    "              ax=axs, hue=\"group\", palette=colors, dodge=False, color=\".25\", size=3,\n",
    "              order=[\"Ctrl\", \"FD\", \"MN\", \"MP\"])\n",
    "axs.set_title(\"Random Forest\")\n",
    "axs.set_xlim([0,1])\n",
    "axs.set(xlabel='')\n",
    "axs.set(ylabel='')\n",
    "axs.set_yticklabels([\"Control\", \"First Diagnosis\",\"MRD Negative\", \"MRD Positive\"], rotation=0, ha='right')\n",
    "axs.get_legend().remove()\n",
    "\n",
    "# handles, labels = axs.get_legend_handles_labels()\n",
    "# axs.legend(title='', loc=2,\n",
    "#            handles= handles, labels=[\"Control (Training)\", \"Control (Validation)\", \"First Diagnosis\",\n",
    "#                               \"MRD Negative\", \"MRD Positive\"])\n",
    "f.savefig(\"/home/joseph/Dropbox/Work/Manuscripts/2020_Kuo_Leukemia/figures/random_forest.png\", bbox_inches='tight', dpi=600)\n",
    "plt.show()"
   ]
  },
  {
   "cell_type": "code",
   "execution_count": null,
   "metadata": {},
   "outputs": [],
   "source": []
  }
 ],
 "metadata": {
  "kernelspec": {
   "display_name": "py3-6E42EId6",
   "language": "python",
   "name": "py3-6e42eid6"
  },
  "language_info": {
   "codemirror_mode": {
    "name": "ipython",
    "version": 3
   },
   "file_extension": ".py",
   "mimetype": "text/x-python",
   "name": "python",
   "nbconvert_exporter": "python",
   "pygments_lexer": "ipython3",
   "version": "3.7.2"
  }
 },
 "nbformat": 4,
 "nbformat_minor": 4
}
