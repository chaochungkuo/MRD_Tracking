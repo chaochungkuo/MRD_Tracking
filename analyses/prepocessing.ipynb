{
 "cells": [
  {
   "cell_type": "code",
   "execution_count": 1,
   "metadata": {},
   "outputs": [],
   "source": [
    "import sys\n",
    "import numpy as np\n",
    "import pandas as pd\n",
    "pd.set_option('display.float_format', lambda x: '%.4f' % x)\n",
    "import pprint\n",
    "pp = pprint.PrettyPrinter(indent=4, compact=True)\n",
    "from ast import literal_eval as make_tuple\n",
    "import joblib"
   ]
  },
  {
   "cell_type": "code",
   "execution_count": 2,
   "metadata": {},
   "outputs": [],
   "source": [
    "##################################################################\n",
    "# Parameters\n",
    "MAX_unknown_CpG = 1\n",
    "# features\n",
    "CpG_targets = ['CpG2', 'FAM38A', 'PRKACA', 'FAM65B']\n",
    "# CpG_targets = ['AML-CpG2', 'AML-CpG3', 'AML-CpG4', 'AML-CpG1']\n",
    "CpG_rename = {'CpG2':'cg22797031', \n",
    "              'FAM38A':'cg27630153', \n",
    "              'PRKACA':'cg19586199', \n",
    "              'FAM65B':'cg15289427'}\n",
    "# paths\n",
    "DIR_methpat = \"/projects/AML/code_repo/BBASeq/data_processing/processed_data/bismark/res_methpat\"\n",
    "# List_sample = \"/projects/AML/code_repo/BBASeq/data_processing/samples.csv\"\n",
    "List_sample = \"/home/joseph/Downloads/mrdsupport/latest_figures.csv\"\n",
    "CpG_posi = \"/projects/AML/code_repo/BBASeq/data_processing/reference/CpG_positions.csv\""
   ]
  },
  {
   "cell_type": "code",
   "execution_count": 6,
   "metadata": {},
   "outputs": [
    {
     "name": "stdout",
     "output_type": "stream",
     "text": [
      "   Unnamed: 0 Disease status      ID  Individual            Group Group ID  \\\n",
      "0         103            AML  FD_11a  Patient 13  First diagnosis       FD   \n",
      "1         104            AML  FD_14a  Patient 16  First diagnosis       FD   \n",
      "2         105            AML  FD_15a  Patient 17  First diagnosis       FD   \n",
      "3         106            AML  FD_17a  Patient 19  First diagnosis       FD   \n",
      "4         155            AML  MU_17b  Patient 19       MRD unknow       MU   \n",
      "\n",
      "   MiSeq run New ID Original ID               FASTQ file name  ...  \\\n",
      "0          2    11a         11a  11a_S13_L001_R*_001.fastq.gz  ...   \n",
      "1          2    14a         14a  14a_S15_L001_R*_001.fastq.gz  ...   \n",
      "2          2    15a         15a  15a_S17_L001_R*_001.fastq.gz  ...   \n",
      "3          2    17a         17a  17a_S19_L001_R*_001.fastq.gz  ...   \n",
      "4          2    17b         17b  17b_S20_L001_R*_001.fastq.gz  ...   \n",
      "\n",
      "  TRAK (TSH-R AK) Transferrin Triglyceride Triglyzeride Troponin T Troponin-I  \\\n",
      "0             nan         nan          NaN          NaN        nan        nan   \n",
      "1             nan         nan          NaN          NaN        nan        nan   \n",
      "2             nan         nan          NaN          NaN        nan        nan   \n",
      "3             nan         nan          NaN          NaN        nan        nan   \n",
      "4             nan         nan          NaN          NaN        nan        nan   \n",
      "\n",
      "   TSH  TZ Urobilinogen Vitamin B12  \n",
      "0  NaN nan          nan         nan  \n",
      "1  NaN nan          nan         nan  \n",
      "2  NaN nan          nan         nan  \n",
      "3  NaN nan          nan         nan  \n",
      "4  NaN nan          nan         nan  \n",
      "\n",
      "[5 rows x 272 columns]\n"
     ]
    }
   ],
   "source": [
    "##################################################################\n",
    "# Sample table\n",
    "# samples = pd.read_csv(List_sample, header=0, usecols=range(271))\n",
    "samples = pd.read_excel(\"/home/joseph/Downloads/mrdsupport/latest_figures.xlsx\")\n",
    "samples = samples.reset_index(drop=True)\n",
    "print(samples.head())"
   ]
  },
  {
   "cell_type": "code",
   "execution_count": 7,
   "metadata": {},
   "outputs": [
    {
     "name": "stdout",
     "output_type": "stream",
     "text": [
      "{   'LAG3': [   '46', '58', '62', '68', '74', '92', '103', '106', '109', '135',\n",
      "                '138', '145', '155', '164', '174', '179'],\n",
      "    'PDE4C': [   '23', '26', '57', '63', '65', '69', '91', '105', '114', '117',\n",
      "                 '126', '138', '148', '154', '164', '166', '174', '176', '193',\n",
      "                 '195', '199', '214', '216', '230', '246', '257'],\n",
      "    'cg15289427': [   '41', '89', '91', '102', '117', '121', '145', '175',\n",
      "                      '189', '207', '220', '250', '252', '259'],\n",
      "    'cg19586199': ['50', '58', '87', '97', '143', '216', '230', '232', '238'],\n",
      "    'cg22797031': [   '42', '46', '64', '68', '78', '84', '90', '100', '141',\n",
      "                      '169'],\n",
      "    'cg27630153': [   '155', '158', '166', '176', '180', '183', '204', '208',\n",
      "                      '220', '242', '249', '254', '261', '275', '304']}\n",
      "{   'LAG3': 16,\n",
      "    'PDE4C': 26,\n",
      "    'cg15289427': 14,\n",
      "    'cg19586199': 9,\n",
      "    'cg22797031': 10,\n",
      "    'cg27630153': 15}\n"
     ]
    }
   ],
   "source": [
    "##################################################################\n",
    "# Load CpG position\n",
    "CpG_positions = {}\n",
    "CpG_num = {}\n",
    "with open(CpG_posi) as f:\n",
    "    for line in f:\n",
    "        l = line.strip().split()\n",
    "        if l[0] in CpG_rename.keys():\n",
    "            CpG_positions[CpG_rename[l[0]]] = l[1:]\n",
    "            CpG_num[CpG_rename[l[0]]] = len(l[1:])\n",
    "        else:\n",
    "            CpG_positions[l[0]] = l[1:]\n",
    "            CpG_num[l[0]] = len(l[1:])\n",
    "\n",
    "\n",
    "CpG_positions['cg27630153'].remove(\"134\")\n",
    "CpG_num['cg27630153'] = CpG_num['cg27630153'] - 1 \n",
    "\n",
    "pp.pprint(CpG_positions)\n",
    "pp.pprint(CpG_num)"
   ]
  },
  {
   "cell_type": "code",
   "execution_count": null,
   "metadata": {},
   "outputs": [],
   "source": []
  },
  {
   "cell_type": "code",
   "execution_count": 9,
   "metadata": {},
   "outputs": [
    {
     "name": "stdout",
     "output_type": "stream",
     "text": [
      "CpG2\n",
      "...........................................................................................................................................................................................................................\n",
      "FAM38A\n",
      "...........................................................................................................................................................................................................................\n",
      "PRKACA\n",
      "...........................................................................................................................................................................................................................\n",
      "FAM65B\n",
      "...........................................................................................................................................................................................................................\n"
     ]
    }
   ],
   "source": [
    "##################################################################\n",
    "# Load Methylation data\n",
    "list_CpGs = {}\n",
    "\n",
    "shift = 2\n",
    "\n",
    "for target in CpG_targets:\n",
    "    print(target)\n",
    "    list_CpGs[CpG_rename[target]] = []\n",
    "\n",
    "    for i, name in enumerate(samples[\"ID\"]):\n",
    "        print(\".\", end=\"\")\n",
    "        dd = pd.read_csv(DIR_methpat+\"/\"+name+\".tsv\", header=0, sep=\"\\t\", engine=\"c\",\n",
    "                         names=[\"amplicon\", \"chr\", \"start\", \"end\", \"pattern\", \"count\", \"sites\"])\n",
    "        \n",
    "        for index, row in dd.iterrows():\n",
    "            if row[\"amplicon\"] == target:\n",
    "                ss = make_tuple(row[\"sites\"])\n",
    "                \n",
    "                entry = {}\n",
    "                for site in CpG_positions[CpG_rename[target]]:\n",
    "                    entry[int(site)] = \"-\"\n",
    "                    \n",
    "                for x in ss:\n",
    "                    if x[0] - shift in entry.keys():\n",
    "                        entry[x[0] - shift] = int(x[1])\n",
    "                pp = \"\".join([str(xx) for xx in list(entry.values())])\n",
    "#                 print(pp)\n",
    "                if \"-\" not in pp:\n",
    "                    newline = [samples[\"Group ID\"][i], name, pp] + list(entry.values())\n",
    "\n",
    "                    for j in range(int(row[\"count\"])):\n",
    "                        list_CpGs[CpG_rename[target]].append(newline)\n",
    "\n",
    "    list_CpGs[CpG_rename[target]] = pd.DataFrame(np.array(list_CpGs[CpG_rename[target]]),  columns = [\"group\", \"id\", \"pattern\"] + CpG_positions[CpG_rename[target]])\n",
    "#     list_CpGs[target] = list_CpGs[target][~list_CpGs[target].pattern.str.contains(\"-\")]\n",
    "    list_CpGs[CpG_rename[target]].iloc[:,3:] = list_CpGs[CpG_rename[target]].iloc[:,3:].astype(int)\n",
    "    print()"
   ]
  },
  {
   "cell_type": "code",
   "execution_count": 9,
   "metadata": {},
   "outputs": [],
   "source": []
  },
  {
   "cell_type": "code",
   "execution_count": 11,
   "metadata": {},
   "outputs": [],
   "source": []
  },
  {
   "cell_type": "code",
   "execution_count": 10,
   "metadata": {},
   "outputs": [
    {
     "name": "stdout",
     "output_type": "stream",
     "text": [
      "............................................................................................................................................................................................................................................................................................................................................................................................................................................................................................................................................................................................................................................................................................................................................................................................................................................................................................................[]\n"
     ]
    }
   ],
   "source": [
    "no_ids = []\n",
    "for j, l in enumerate(samples[\"ID\"]):\n",
    "    for i, target in enumerate(CpG_targets):\n",
    "        print(\".\", end=\"\")\n",
    "        d = sum(list_CpGs[CpG_rename[target]][\"id\"]==l)\n",
    "        if d < 50:\n",
    "            no_ids.append(l)\n",
    "print(no_ids)\n",
    "for l in no_ids:\n",
    "    samples = samples.loc[samples[\"ID\"] != l,]"
   ]
  },
  {
   "cell_type": "code",
   "execution_count": 11,
   "metadata": {},
   "outputs": [],
   "source": [
    "##################################################################\n",
    "# Pattern Frequency\n",
    "\n",
    "list_patterns = {}\n",
    "\n",
    "for target in CpG_targets:\n",
    "    table_pp = list_CpGs[CpG_rename[target]].iloc[:,0:3]\n",
    "#     table_pp = table_pp[~table_pp.pattern.str.contains(\"-\")]\n",
    "    table_ppc = pd.DataFrame({'counts': table_pp.groupby(['group','id'])['pattern'].value_counts()}).reset_index()\n",
    "    table_sum = pd.DataFrame({'total_reads': table_pp.groupby(['group','id']).size()}).reset_index()\n",
    "    table_ppc = pd.merge(table_ppc, table_sum, on=['group', 'id'])\n",
    "    table_ppc[\"proportion\"] = table_ppc[\"counts\"] / table_ppc[\"total_reads\"]\n",
    "#     print(table_ppc.head())\n",
    "    list_patterns[CpG_rename[target]] = table_ppc\n",
    "    "
   ]
  },
  {
   "cell_type": "code",
   "execution_count": 12,
   "metadata": {},
   "outputs": [],
   "source": [
    "##################################################################\n",
    "# CpG Frequency\n",
    "list_each_cpg = {}\n",
    "\n",
    "for target in CpG_targets:\n",
    "    table_m = list_CpGs[CpG_rename[target]]\n",
    "    table_pp = table_m.drop(\"pattern\", axis='columns')\n",
    "    table_ppc = table_pp.groupby(['group','id']).sum().reset_index()\n",
    "\n",
    "    table_sum = pd.DataFrame({'total_reads': table_pp.groupby(['group','id']).size()}).reset_index()\n",
    "    table_ppc.iloc[:,2:] = table_ppc.iloc[:,2:].div(table_sum[\"total_reads\"], axis=0)\n",
    "\n",
    "    list_each_cpg[CpG_rename[target]] = table_ppc\n"
   ]
  },
  {
   "cell_type": "code",
   "execution_count": 13,
   "metadata": {},
   "outputs": [],
   "source": [
    "colors = {'Ctrl':\"#2e2e2e\",\n",
    "          'Training':\"#949494\",\n",
    "          'FD':\"#ac0900\",\n",
    "          'MP':\"#ff9136\", \n",
    "          'MN':\"#0985fd\", \n",
    "          'MU':\"black\", \n",
    "          'CD':\"#FFFF33\",\n",
    "          'CL':\"#A65628\", \n",
    "          'DD':\"#F781BF\",\n",
    "          'TR':\"#4DAF4A\",\n",
    "          }\n",
    "CpG_targets = ['cg15289427', 'cg22797031', 'cg27630153', 'cg19586199']"
   ]
  },
  {
   "cell_type": "code",
   "execution_count": 14,
   "metadata": {},
   "outputs": [
    {
     "data": {
      "text/plain": [
       "['CpG_targets.sav']"
      ]
     },
     "execution_count": 14,
     "metadata": {},
     "output_type": "execute_result"
    }
   ],
   "source": [
    "##################################################################\n",
    "# Dump variables\n",
    "import joblib\n",
    "joblib.dump(samples, 'samples.sav') \n",
    "joblib.dump(list_CpGs, 'list_CpGs.sav')\n",
    "joblib.dump(list_patterns, 'list_patterns.sav')\n",
    "joblib.dump(list_each_cpg, 'list_each_cpg.sav') \n",
    "joblib.dump(CpG_positions, 'CpG_positions.sav')\n",
    "joblib.dump(CpG_num, 'CpG_num.sav') \n",
    "joblib.dump(colors, 'colors.sav') \n",
    "joblib.dump(CpG_targets, 'CpG_targets.sav') "
   ]
  }
 ],
 "metadata": {
  "kernelspec": {
   "display_name": "py3-6E42EId6",
   "language": "python",
   "name": "py3-6e42eid6"
  },
  "language_info": {
   "codemirror_mode": {
    "name": "ipython",
    "version": 3
   },
   "file_extension": ".py",
   "mimetype": "text/x-python",
   "name": "python",
   "nbconvert_exporter": "python",
   "pygments_lexer": "ipython3",
   "version": "3.7.2"
  }
 },
 "nbformat": 4,
 "nbformat_minor": 4
}
